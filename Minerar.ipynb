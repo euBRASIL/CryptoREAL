{
  "nbformat": 4,
  "nbformat_minor": 0,
  "metadata": {
    "colab": {
      "provenance": [],
      "authorship_tag": "ABX9TyOZ3ofVlLtEzQOWiwN3SJpp",
      "include_colab_link": true
    },
    "kernelspec": {
      "name": "python3",
      "display_name": "Python 3"
    },
    "language_info": {
      "name": "python"
    }
  },
  "cells": [
    {
      "cell_type": "markdown",
      "metadata": {
        "id": "view-in-github",
        "colab_type": "text"
      },
      "source": [
        "<a href=\"https://colab.research.google.com/github/euBRASIL/CryptoREAL/blob/master/Minerar.ipynb\" target=\"_parent\"><img src=\"https://colab.research.google.com/assets/colab-badge.svg\" alt=\"Open In Colab\"/></a>"
      ]
    },
    {
      "cell_type": "code",
      "source": [
        "pip install ripemd-hash==1.0.1\n",
        "pip install base58==2.1.1\n",
        "pip install ecdsa\n"
      ],
      "metadata": {
        "id": "CWbnOTm3zDFY"
      },
      "execution_count": null,
      "outputs": []
    },
    {
      "cell_type": "code",
      "source": [
        "# @title\n",
        "import hashlib\n",
        "import json\n",
        "import sys\n",
        "import ecdsa\n",
        "import base58\n",
        "from tqdm import tqdm\n",
        "from ripemd.ripemd160 import ripemd160  # import function"
      ],
      "metadata": {
        "id": "HNxKhib7djn5",
        "cellView": "form"
      },
      "execution_count": null,
      "outputs": []
    },
    {
      "cell_type": "code",
      "source": [
        "# @title\n",
        "def calculate_match_percentage(str1, str2):\n",
        "    len_str1 = len(str1)\n",
        "    len_str2 = len(str2)\n",
        "\n",
        "    min_len = min(len_str1, len_str2)\n",
        "    matching_chars = sum(1 for c1, c2 in zip(str1, str2) if c1 == c2)\n",
        "\n",
        "    return (matching_chars / min_len) * 100"
      ],
      "metadata": {
        "id": "S039OjQXe3lB",
        "cellView": "form"
      },
      "execution_count": null,
      "outputs": []
    },
    {
      "cell_type": "code",
      "source": [
        "# @title\n",
        "def generate_bitcoin_keypair_range(start_hex, end_hex, target_address):\n",
        "    start_int = int(start_hex, 16)\n",
        "    end_int = int(end_hex, 16)\n",
        "    step = 10000000  # Define o tamanho do passo para iterar de |10|000|000|\n",
        "\n",
        "    max_match_percentage = 0\n",
        "    max_match_address = \"\"\n",
        "\n",
        "    resultados_json = []  # Lista para armazenar os resultados\n",
        "\n",
        "    with open(\"29Porcento.txt\", \"a\") as file:\n",
        "        for batch_start in range(start_int, end_int + 1, step):\n",
        "            batch_end = min(batch_start + step - 1, end_int)\n",
        "# -------------------------------------------------------------------------------------------------------\n",
        "# Loop para gerar o address do bitcoin, +1 << alterar >>\n",
        "#-------------------------------------------------------\n",
        "            for private_key_int in tqdm(range(batch_start, batch_end + 1), desc=\"Progresso\", unit=\"chaves\", file=sys.stdout):\n",
        "                private_key_hex = format(private_key_int, 'x').zfill(64)\n",
        "                private_key_bytes = bytes.fromhex(private_key_hex)\n",
        "                sk = ecdsa.SigningKey.from_string(private_key_bytes, curve=ecdsa.SECP256k1)\n",
        "                vk = sk.get_verifying_key()\n",
        "\n",
        "                public_key_bytes = vk.to_string()\n",
        "                sha256_hash = hashlib.sha256(public_key_bytes).digest()\n",
        "\n",
        "                # h = ripemd160.new()\n",
        "                ripemd160(b'abc').hex() == sha256_hash\n",
        "                ripemd160_hash = bytes.fromhex(ripemd160(b'a' * 1000000).hex())\n",
        "\n",
        "                extended_hash = b'\\x00' + ripemd160_hash\n",
        "                checksum = hashlib.sha256(hashlib.sha256(extended_hash).digest()).digest()[:4]\n",
        "                address_bytes = extended_hash + checksum\n",
        "                bitcoin_address = base58.b58encode(address_bytes).decode()\n",
        "\n",
        "                match_percentage = calculate_match_percentage(target_address, bitcoin_address)\n",
        "                if match_percentage > max_match_percentage:\n",
        "                    max_match_percentage = match_percentage\n",
        "                    max_match_address = bitcoin_address\n",
        "\n",
        "\n",
        "                # if match_percentage > 26 and bitcoin_address.startswith(\"13\"):\n",
        "                print(f\"\\nChave Privada (hexadecimal): {private_key_hex}\")\n",
        "                print(f\"Endereço Bitcoin: {bitcoin_address}\")\n",
        "                print(f\"Percentual de Correspondência: {match_percentage:.2f}%\\n\")\n"
      ],
      "metadata": {
        "id": "UiPzzo8WgB9k",
        "cellView": "form"
      },
      "execution_count": null,
      "outputs": []
    },
    {
      "cell_type": "code",
      "source": [
        "# @title\n",
        "if __name__ == \"__main__\":\n",
        "    initial_private_key_hex = \"0000000000000000000000000000000000000000000000039999999999999999\"\n",
        "    final_private_key_hex =   \"000000000000000000000000000000000000000000000003ffffffffffffffff\"\n",
        "    target_address = \"13zb1hQbWVsc2S7ZTZnP2G4undNNpdh5so\"\n"
      ],
      "metadata": {
        "id": "T5epGjUQiN5G",
        "cellView": "form"
      },
      "execution_count": null,
      "outputs": []
    },
    {
      "cell_type": "code",
      "source": [
        "    generate_bitcoin_keypair_range(initial_private_key_hex, final_private_key_hex, target_address)"
      ],
      "metadata": {
        "id": "wgkntKRcm_3J"
      },
      "execution_count": null,
      "outputs": []
    }
  ]
}